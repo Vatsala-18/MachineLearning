{
  "nbformat": 4,
  "nbformat_minor": 0,
  "metadata": {
    "colab": {
      "name": "multiLineReg2(serial-deserial).ipynb",
      "provenance": [],
      "authorship_tag": "ABX9TyPI4EQRzCr4HauVNMC9Lw1S",
      "include_colab_link": true
    },
    "kernelspec": {
      "name": "python3",
      "display_name": "Python 3"
    },
    "language_info": {
      "name": "python"
    }
  },
  "cells": [
    {
      "cell_type": "markdown",
      "metadata": {
        "id": "view-in-github",
        "colab_type": "text"
      },
      "source": [
        "<a href=\"https://colab.research.google.com/github/Vatsala-18/MachineLearning/blob/main/multiLineReg2(serial_deserial).ipynb\" target=\"_parent\"><img src=\"https://colab.research.google.com/assets/colab-badge.svg\" alt=\"Open In Colab\"/></a>"
      ]
    },
    {
      "cell_type": "code",
      "metadata": {
        "id": "-wHRyAYWo4XZ"
      },
      "source": [
        "import pickle\n",
        "reload_model = pickle.load(open('abc.pkl','rb'))    #read byte"
      ],
      "execution_count": 2,
      "outputs": []
    },
    {
      "cell_type": "code",
      "metadata": {
        "colab": {
          "base_uri": "https://localhost:8080/"
        },
        "id": "CWqdDknmpsmQ",
        "outputId": "9b9eda29-6467-4ffd-bb31-ef4864aafa73"
      },
      "source": [
        "reload_model.predict([[88.6,168.8,64.1,48.8,2548,130,3.47,2.68,9.0,111,5000,21,27]])"
      ],
      "execution_count": 3,
      "outputs": [
        {
          "output_type": "execute_result",
          "data": {
            "text/plain": [
              "array([13418.54956368])"
            ]
          },
          "metadata": {},
          "execution_count": 3
        }
      ]
    },
    {
      "cell_type": "code",
      "metadata": {
        "id": "npKZV4psqLD3"
      },
      "source": [
        ""
      ],
      "execution_count": null,
      "outputs": []
    }
  ]
}