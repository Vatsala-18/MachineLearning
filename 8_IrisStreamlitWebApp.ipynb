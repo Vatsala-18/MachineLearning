{
  "nbformat": 4,
  "nbformat_minor": 0,
  "metadata": {
    "colab": {
      "name": "8_IrisStreamlitWebApp.ipynb",
      "provenance": [],
      "authorship_tag": "ABX9TyPe4Ai7ifp8ZACMC5Y6KUD9",
      "include_colab_link": true
    },
    "kernelspec": {
      "name": "python3",
      "display_name": "Python 3"
    },
    "language_info": {
      "name": "python"
    }
  },
  "cells": [
    {
      "cell_type": "markdown",
      "metadata": {
        "id": "view-in-github",
        "colab_type": "text"
      },
      "source": [
        "<a href=\"https://colab.research.google.com/github/Vatsala-18/MachineLearning/blob/main/8_IrisStreamlitWebApp.ipynb\" target=\"_parent\"><img src=\"https://colab.research.google.com/assets/colab-badge.svg\" alt=\"Open In Colab\"/></a>"
      ]
    },
    {
      "cell_type": "markdown",
      "metadata": {
        "id": "suUTsrDcrH_K"
      },
      "source": [
        "**IRIS STREAMLIT WEB APP**"
      ]
    },
    {
      "cell_type": "code",
      "metadata": {
        "id": "QTlItxY4q0zM"
      },
      "source": [
        "pip install streamlit"
      ],
      "execution_count": null,
      "outputs": []
    },
    {
      "cell_type": "code",
      "metadata": {
        "id": "-6xv1s0BrAe_"
      },
      "source": [
        "!pip install pyngrok==4.1.1\n",
        "from pyngrok import ngrok"
      ],
      "execution_count": null,
      "outputs": []
    },
    {
      "cell_type": "code",
      "metadata": {
        "id": "52GgLc9drcya"
      },
      "source": [
        "#.py - python file \n",
        "#.ipynb - interactive python file"
      ],
      "execution_count": 2,
      "outputs": []
    },
    {
      "cell_type": "code",
      "metadata": {
        "colab": {
          "base_uri": "https://localhost:8080/"
        },
        "id": "Tzxw6rLTriF6",
        "outputId": "ab607b65-bd93-459f-998a-f88e81c53931"
      },
      "source": [
        "#creating a python file\n",
        "#magic command - used to create a .py file\n",
        "%%writefile app.py\n",
        "from sklearn.datasets import load_iris    #loads the dataset\n",
        "from sklearn.neighbors import KNeighborsClassifier    #imports the KNN Classifier\n",
        "import streamlit as st\n",
        "import numpy as np\n",
        "\n",
        "\n",
        "st.title(\"IRIS STREAMLIT\")\n",
        "var = load_iris()\n",
        "x = var.data   #input\n",
        "y = var.target    #output\n",
        "xmin = np.min(x,axis=0)    #for all 150 values find min and max values\n",
        "xmax = np.max(x,axis=0)\n",
        "\n",
        "model = KNeighborsClassifier(n_neighbors=13)\n",
        "model.fit(x,y)\n",
        "sepal_length = st.slider('Sepal length : ',float(xmin[0]),float(xmax[0]))\n",
        "sepal_width  = st.slider('Sepal width  : ',float(xmin[1]),float(xmax[1]))\n",
        "petal_length = st.slider('Petal length : ',float(xmin[2]),float(xmax[2]))\n",
        "petal_width  = st.slider('Petal width  : ',float(xmin[3]),float(xmax[3]))   #creating sliders for input features \n",
        "\n",
        "y_pred = model.predict([[sepal_length,sepal_width,petal_length,petal_width]])\n",
        "op = ['Setosa','Versicolor','Virginica']\n",
        "st.title(op[y_pred[0]])"
      ],
      "execution_count": 6,
      "outputs": [
        {
          "output_type": "stream",
          "name": "stdout",
          "text": [
            "Overwriting app.py\n"
          ]
        }
      ]
    },
    {
      "cell_type": "code",
      "metadata": {
        "colab": {
          "base_uri": "https://localhost:8080/",
          "height": 52
        },
        "id": "dOwOoStrro5Y",
        "outputId": "055426cc-9fb7-40a8-9fb4-5c5c85287f68"
      },
      "source": [
        "!nohup streamlit run app.py &    #runs the streamlit continously in background for app.py\n",
        "public_url = ngrok.connect(port='8501')\n",
        "public_url"
      ],
      "execution_count": 4,
      "outputs": [
        {
          "output_type": "stream",
          "name": "stdout",
          "text": [
            "nohup: appending output to 'nohup.out'\n"
          ]
        },
        {
          "output_type": "execute_result",
          "data": {
            "application/vnd.google.colaboratory.intrinsic+json": {
              "type": "string"
            },
            "text/plain": [
              "'http://4588-35-231-159-46.ngrok.io'"
            ]
          },
          "metadata": {},
          "execution_count": 4
        }
      ]
    },
    {
      "cell_type": "code",
      "metadata": {
        "id": "9wxnqek8rxI6"
      },
      "source": [
        ""
      ],
      "execution_count": null,
      "outputs": []
    }
  ]
}